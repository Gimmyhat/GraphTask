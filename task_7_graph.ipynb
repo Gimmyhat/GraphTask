{
 "cells": [
  {
   "cell_type": "code",
   "execution_count": 47,
   "metadata": {
    "pycharm": {
     "name": "#%%\n"
    }
   },
   "outputs": [],
   "source": [
    "import pandas as pd\n",
    "from py2neo import Graph, Node\n",
    "from tqdm import tqdm"
   ]
  },
  {
   "cell_type": "code",
   "execution_count": 48,
   "metadata": {
    "pycharm": {
     "name": "#%%\n"
    }
   },
   "outputs": [],
   "source": [
    "df = pd.read_csv('data_test.csv', delimiter=';', encoding='utf-8')"
   ]
  },
  {
   "cell_type": "code",
   "execution_count": 49,
   "outputs": [
    {
     "data": {
      "text/plain": "   id события         ФИО участника события 1          ФИО участника события 2\n0         189  Галчевская Карина Владимировна  Белоновская Анастасия Семеновна\n1         206         Офицеров Олег Романович        Сапожник Борис Валерьевич\n2         445     Жандарова Лариса Германовна       Чемодуров Дамир Русланович\n3         503          Масимова Яна Дамировна   Мингажетдинов Рамиль Семенович\n4         571       Мухтарова Алена Яковлевна      Щербатенко Ольга Робертовна",
      "text/html": "<div>\n<style scoped>\n    .dataframe tbody tr th:only-of-type {\n        vertical-align: middle;\n    }\n\n    .dataframe tbody tr th {\n        vertical-align: top;\n    }\n\n    .dataframe thead th {\n        text-align: right;\n    }\n</style>\n<table border=\"1\" class=\"dataframe\">\n  <thead>\n    <tr style=\"text-align: right;\">\n      <th></th>\n      <th>id события</th>\n      <th>ФИО участника события 1</th>\n      <th>ФИО участника события 2</th>\n    </tr>\n  </thead>\n  <tbody>\n    <tr>\n      <th>0</th>\n      <td>189</td>\n      <td>Галчевская Карина Владимировна</td>\n      <td>Белоновская Анастасия Семеновна</td>\n    </tr>\n    <tr>\n      <th>1</th>\n      <td>206</td>\n      <td>Офицеров Олег Романович</td>\n      <td>Сапожник Борис Валерьевич</td>\n    </tr>\n    <tr>\n      <th>2</th>\n      <td>445</td>\n      <td>Жандарова Лариса Германовна</td>\n      <td>Чемодуров Дамир Русланович</td>\n    </tr>\n    <tr>\n      <th>3</th>\n      <td>503</td>\n      <td>Масимова Яна Дамировна</td>\n      <td>Мингажетдинов Рамиль Семенович</td>\n    </tr>\n    <tr>\n      <th>4</th>\n      <td>571</td>\n      <td>Мухтарова Алена Яковлевна</td>\n      <td>Щербатенко Ольга Робертовна</td>\n    </tr>\n  </tbody>\n</table>\n</div>"
     },
     "execution_count": 49,
     "metadata": {},
     "output_type": "execute_result"
    }
   ],
   "source": [
    "df.head()"
   ],
   "metadata": {
    "collapsed": false,
    "pycharm": {
     "name": "#%%\n"
    }
   }
  },
  {
   "cell_type": "markdown",
   "source": [
    "Подключаемся к графовой базе данных с помощью py2neo"
   ],
   "metadata": {
    "collapsed": false,
    "pycharm": {
     "name": "#%% md\n"
    }
   }
  },
  {
   "cell_type": "code",
   "execution_count": 50,
   "metadata": {
    "pycharm": {
     "name": "#%%\n"
    }
   },
   "outputs": [],
   "source": [
    "graph = Graph(\"bolt://localhost:7687\", auth=(\"neo4j\", \"0123456789\"))"
   ]
  },
  {
   "cell_type": "markdown",
   "source": [
    "Очищаем графовую базу данных"
   ],
   "metadata": {
    "collapsed": false,
    "pycharm": {
     "name": "#%% md\n"
    }
   }
  },
  {
   "cell_type": "code",
   "execution_count": 51,
   "outputs": [],
   "source": [
    "graph.delete_all()"
   ],
   "metadata": {
    "collapsed": false,
    "pycharm": {
     "name": "#%%\n"
    }
   }
  },
  {
   "cell_type": "code",
   "execution_count": 52,
   "outputs": [
    {
     "name": "stderr",
     "output_type": "stream",
     "text": [
      "100%|██████████| 9899/9899 [00:56<00:00, 176.15it/s]\n"
     ]
    }
   ],
   "source": [
    "# Создаем узлы\n",
    "nodes = set(df['ФИО участника события 1']).union(set(df['ФИО участника события 2']))\n",
    "\n",
    "for node in tqdm(nodes):\n",
    "    graph.create(Node(\"Person\", name=node))"
   ],
   "metadata": {
    "collapsed": false,
    "pycharm": {
     "name": "#%%\n"
    }
   }
  },
  {
   "cell_type": "code",
   "execution_count": 53,
   "outputs": [
    {
     "name": "stderr",
     "output_type": "stream",
     "text": [
      "100%|██████████| 5000/5000 [01:18<00:00, 63.55it/s]\n"
     ]
    }
   ],
   "source": [
    "# Создаем связи\n",
    "query = \"\"\"\n",
    "MATCH (p1:Person {name: $name1})\n",
    "MATCH (p2:Person {name: $name2})\n",
    "MERGE (p1)-[r:PARTICIPATED_IN {event_id: $event_id}]->(p2)\n",
    "\"\"\"\n",
    "\n",
    "for index, row in tqdm(df.iterrows(), total=len(df)):\n",
    "    graph.run(query, name1=row['ФИО участника события 1'], name2=row['ФИО участника события 2'],\n",
    "              event_id=row['id события'])\n"
   ],
   "metadata": {
    "collapsed": false,
    "pycharm": {
     "name": "#%%\n"
    }
   }
  },
  {
   "cell_type": "code",
   "execution_count": 54,
   "metadata": {
    "pycharm": {
     "name": "#%%\n"
    }
   },
   "outputs": [
    {
     "data": {
      "text/plain": "                               0                               1       2\n0   Зелинский Геннадий Артурович        Зазорин Вадим Аркадьевич  177407\n1   Угрюмова Марина Валентиновна     Фондорина Ксения Викторовна  305692\n2  Семиошкина Алиса Владимировна      Рассадкин Леонид Федорович  190143\n3       Шалашова Алена Федоровна        Шинкарева Яна Георгиевна  131201\n4      Фурсаева Лидия Дмитриевна  Пересыпкина Маргарита Ефимовна  112526",
      "text/html": "<div>\n<style scoped>\n    .dataframe tbody tr th:only-of-type {\n        vertical-align: middle;\n    }\n\n    .dataframe tbody tr th {\n        vertical-align: top;\n    }\n\n    .dataframe thead th {\n        text-align: right;\n    }\n</style>\n<table border=\"1\" class=\"dataframe\">\n  <thead>\n    <tr style=\"text-align: right;\">\n      <th></th>\n      <th>0</th>\n      <th>1</th>\n      <th>2</th>\n    </tr>\n  </thead>\n  <tbody>\n    <tr>\n      <th>0</th>\n      <td>Зелинский Геннадий Артурович</td>\n      <td>Зазорин Вадим Аркадьевич</td>\n      <td>177407</td>\n    </tr>\n    <tr>\n      <th>1</th>\n      <td>Угрюмова Марина Валентиновна</td>\n      <td>Фондорина Ксения Викторовна</td>\n      <td>305692</td>\n    </tr>\n    <tr>\n      <th>2</th>\n      <td>Семиошкина Алиса Владимировна</td>\n      <td>Рассадкин Леонид Федорович</td>\n      <td>190143</td>\n    </tr>\n    <tr>\n      <th>3</th>\n      <td>Шалашова Алена Федоровна</td>\n      <td>Шинкарева Яна Георгиевна</td>\n      <td>131201</td>\n    </tr>\n    <tr>\n      <th>4</th>\n      <td>Фурсаева Лидия Дмитриевна</td>\n      <td>Пересыпкина Маргарита Ефимовна</td>\n      <td>112526</td>\n    </tr>\n  </tbody>\n</table>\n</div>"
     },
     "execution_count": 54,
     "metadata": {},
     "output_type": "execute_result"
    }
   ],
   "source": [
    "query = \"\"\"\n",
    "MATCH (p1:Person)-[r:PARTICIPATED_IN]->(p2:Person)\n",
    "RETURN p1.name AS Person1, p2.name AS Person2, r.event_id AS Event\n",
    "\"\"\"\n",
    "\n",
    "result = graph.run(query)\n",
    "\n",
    "data = pd.DataFrame(result)\n",
    "\n",
    "data.head()"
   ]
  },
  {
   "cell_type": "code",
   "execution_count": 55,
   "outputs": [
    {
     "name": "stdout",
     "output_type": "stream",
     "text": [
      "Граф является направленным\n"
     ]
    }
   ],
   "source": [
    "query = \"\"\"\n",
    "MATCH ()-[r]->()\n",
    "RETURN DISTINCT type(r), case when startNode(r) <> endNode(r) then \"directed\" else \"undirected\" end as direction\n",
    "\"\"\"\n",
    "\n",
    "result = graph.run(query).to_data_frame()\n",
    "\n",
    "if len(result) == 1 and result.iloc[0]['direction'] == 'undirected':\n",
    "    print(\"Граф не является направленным\")\n",
    "else:\n",
    "    print(\"Граф является направленным\")\n"
   ],
   "metadata": {
    "collapsed": false,
    "pycharm": {
     "name": "#%%\n"
    }
   }
  },
  {
   "cell_type": "markdown",
   "source": [
    "## Обнаружение сообществ\n",
    "Алгоритмы обнаружения сообществ позволяют выделить группы узлов, которые имеют сильные внутренние связи, но слабые связи с узлами в других группах. Например, мы можем использовать алгоритм Лувена для обнаружения сообществ в нашем графе."
   ],
   "metadata": {
    "collapsed": false,
    "pycharm": {
     "name": "#%% md\n"
    }
   }
  },
  {
   "cell_type": "code",
   "execution_count": 59,
   "outputs": [
    {
     "name": "stdout",
     "output_type": "stream",
     "text": [
      "Количество сообществ: 4909\n"
     ]
    }
   ],
   "source": [
    "import networkx as nx\n",
    "\n",
    "# Загрузка данных из Neo4j в объект networkx.Graph\n",
    "query = \"\"\"\n",
    "MATCH (p1:Person)-[r:PARTICIPATED_IN]->(p2:Person)\n",
    "RETURN p1.name as source, p2.name as target, count(r) as weight\n",
    "\"\"\"\n",
    "\n",
    "data = graph.run(query).to_data_frame()\n",
    "G = nx.from_pandas_edgelist(data, source='source', target='target', edge_attr='weight')\n",
    "\n",
    "# Обнаружение сообществ с помощью алгоритма Лувейна\n",
    "partition = nx.algorithms.community.label_propagation.label_propagation_communities(G)\n",
    "\n",
    "# Вывод количества сообществ\n",
    "print(f\"Количество сообществ: {len(partition)}\")"
   ],
   "metadata": {
    "collapsed": false,
    "pycharm": {
     "name": "#%%\n"
    }
   }
  },
  {
   "cell_type": "markdown",
   "source": [
    "## Центральность вершин\n",
    "Алгоритмы центральности вершин позволяют определить наиболее важные узлы в графе, которые играют ключевую роль в связях между другими узлами. Например, мы можем использовать алгоритм центральности посредничества (betweenness centrality) для выявления наиболее важных узлов в нашем графе."
   ],
   "metadata": {
    "collapsed": false,
    "pycharm": {
     "name": "#%% md\n"
    }
   }
  },
  {
   "cell_type": "code",
   "execution_count": 71,
   "outputs": [
    {
     "name": "stderr",
     "output_type": "stream",
     "text": [
      "100%|██████████| 5000/5000 [00:48<00:00, 102.36it/s]\n"
     ]
    },
    {
     "name": "stdout",
     "output_type": "stream",
     "text": [
      "1850: 2.501007906186193e-05\n",
      "1669: 1.8578915874526003e-06\n",
      "2648: 8.370720339072156e-07\n",
      "3069: 7.758228606944924e-07\n",
      "6162: 7.758228606944924e-07\n",
      "1756: 7.554064696235848e-07\n",
      "1166: 7.349900785526771e-07\n",
      "3198: 7.145736874817694e-07\n",
      "5971: 7.145736874817694e-07\n",
      "4782: 3.062458660636155e-07\n"
     ]
    }
   ],
   "source": [
    "import networkx as nx\n",
    "\n",
    "# Создание графа на основе Neo4j\n",
    "G = nx.Graph()\n",
    "for rel in tqdm(graph.match()):\n",
    "    G.add_edge(rel.start_node.identity, rel.end_node.identity)\n",
    "\n",
    "# Вычисление центральности посредничества\n",
    "betweenness_centrality = nx.betweenness_centrality(G)\n",
    "\n",
    "# Вывод наиболее важных узлов\n",
    "top_nodes = sorted(betweenness_centrality, key=betweenness_centrality.get, reverse=True)[:10]\n",
    "for node in top_nodes:\n",
    "    print(f\"{node}: {betweenness_centrality[node]}\")\n"
   ],
   "metadata": {
    "collapsed": false,
    "pycharm": {
     "name": "#%%\n"
    }
   }
  },
  {
   "cell_type": "markdown",
   "source": [
    "В результате было выведено 10 наиболее важных узлов (по убыванию значения центральности).\n",
    "\n",
    "Значения центральности могут интерпретироваться как мера того, насколько важными являются узлы для связности графа. Чем выше значение центральности, тем более важным является узел.\n",
    "\n",
    "В данном случае, узел с идентификатором 1850 имеет наивысшее значение центральности. Это означает, что этот узел наиболее важен для связности графа, и вероятно, он является ключевым игроком в в той сети, которую мы анализируем. Остальные узлы в списке также имеют высокие значения центральности, что может указывать на их значимость для связности графа.\n",
    "\n",
    "Простыми словами, данная мера показывает нам насколько часто рассматриваемая вершина является «перевалочным пунктом» при переходах от одной вершины графа до любой другой. Она позволяет достаточно хорошо определять «узкие места» в графе — вершины, входящие в состав ребра или набора ребер, соединяющих два ярко выраженных кластера."
   ],
   "metadata": {
    "collapsed": false,
    "pycharm": {
     "name": "#%% md\n"
    }
   }
  },
  {
   "cell_type": "code",
   "execution_count": 77,
   "outputs": [
    {
     "name": "stdout",
     "output_type": "stream",
     "text": [
      "0    {'name': 'Ахромеева Алина Ивановна'}\n",
      "dtype: object\n"
     ]
    }
   ],
   "source": [
    "query = \"\"\"\n",
    "MATCH (n) WHERE id(n) = 1850 RETURN n\n",
    "\"\"\"\n",
    "\n",
    "result = graph.run(query).to_series()\n",
    "\n",
    "print(result)"
   ],
   "metadata": {
    "collapsed": false,
    "pycharm": {
     "name": "#%%\n"
    }
   }
  }
 ],
 "metadata": {
  "kernelspec": {
   "display_name": "Python 3 (ipykernel)",
   "language": "python",
   "name": "python3"
  },
  "language_info": {
   "codemirror_mode": {
    "name": "ipython",
    "version": 3
   },
   "file_extension": ".py",
   "mimetype": "text/x-python",
   "name": "python",
   "nbconvert_exporter": "python",
   "pygments_lexer": "ipython3",
   "version": "3.10.4"
  }
 },
 "nbformat": 4,
 "nbformat_minor": 1
}